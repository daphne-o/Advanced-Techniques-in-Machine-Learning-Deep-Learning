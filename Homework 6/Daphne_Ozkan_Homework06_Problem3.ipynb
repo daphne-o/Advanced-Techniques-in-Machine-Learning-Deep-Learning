{
 "cells": [
  {
   "cell_type": "markdown",
   "id": "c3238079",
   "metadata": {},
   "source": [
    "Staleness refers to the number of weight updates that occur between the time a learner reads the weights and the time it sends its gradient to the parameter server, which then applies the update.\n",
    "\n",
    "We are given that:\n",
    "* Learner 1 runs 2.5× faster than Learner 2.\n",
    "\n",
    "* Weight updates are instantaneous upon receiving a gradient.\n",
    "\n",
    "* Learners always pull the latest weights before computing gradients."
   ]
  },
  {
   "cell_type": "markdown",
   "id": "d5a5aa3c",
   "metadata": {},
   "source": [
    "**Staleness Calculations:**\n",
    "\n",
    "* g[L1,1] at t = 1s\n",
    "First gradient in the system. No prior updates. → Staleness = 0\n",
    "\n",
    "* g[L1,2] at t = 2s\n",
    "Learner 2 has not yet computed any gradients. → Staleness = 0\n",
    "\n",
    "* g[L2,1] at t = 2.5s\n",
    "This is Learner 2's first gradient. No other learner updated weights after it read them. → Staleness = 0\n",
    "\n",
    "* g[L1,3] at t = 3s\n",
    "Learner 2's gradient (g[L2,1]) was computed and applied after g[L1,2]. So, one update occurred between g[L1,2] and g[L1,3]. → Staleness = 1\n",
    "\n",
    "* g[L1,4] at t = 4s\n",
    "No other gradients were computed between g[L1,3] and g[L1,4]. → Staleness = 0\n",
    "\n",
    "* g[L2,2] at t = 5s\n",
    "Two gradients from Learner 1 (g[L1,2] and g[L1,3]) were computed and applied since g[L2,1]. → Staleness = 2"
   ]
  },
  {
   "cell_type": "markdown",
   "id": "d12f8abf",
   "metadata": {},
   "source": [
    "So the stalenes for each gradient is: \n",
    "\n",
    "g[L1,1] = 0  \n",
    "g[L1,2] = 0  \n",
    "g[L2,1] = 0  \n",
    "g[L1,3] = 1  \n",
    "g[L1,4] = 0  \n",
    "g[L2,2] = 2"
   ]
  }
 ],
 "metadata": {
  "language_info": {
   "name": "python"
  }
 },
 "nbformat": 4,
 "nbformat_minor": 5
}
