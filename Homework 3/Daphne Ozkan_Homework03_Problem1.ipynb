{
 "cells": [
  {
   "cell_type": "markdown",
   "metadata": {},
   "source": [
    "### Question 1"
   ]
  },
  {
   "cell_type": "markdown",
   "metadata": {},
   "source": [
    "For $i = j$, we apply the quotient rule to the softmax function $o_i = \\frac{e^{v_i}}{\\sum_{j=1}^k e^{v_j}}$.\n",
    "\n",
    "Let $Z = \\sum_{j=1}^k e^{v_j}$. Then:\n",
    "\n",
    "$\\frac{\\partial o_i}{\\partial v_i} = \\frac{Z \\cdot \\frac{d}{dv_i}e^{v_i} - e^{v_i} \\cdot \\frac{d}{dv_i}Z}{Z^2}\n",
    "= \\frac{Z \\cdot e^{v_i} - e^{v_i} \\cdot e^{v_i}}{Z^2}\n",
    "= \\frac{e^{v_i}(Z - e^{v_i})}{Z^2}\n",
    "= \\frac{e^{v_i}}{Z} \\left(1 - \\frac{e^{v_i}}{Z} \\right)\n",
    "= o_i (1 - o_i)$\n",
    "\n",
    "For $i \\ne j$, the numerator $e^{v_i}$ does not depend on $v_j$, so its derivative is zero. We only need to differentiate the denominator $Z$:\n",
    "\n",
    "$\\frac{\\partial o_i}{\\partial v_j}\n",
    "= \\frac{0 \\cdot Z - e^{v_i} \\cdot e^{v_j}}{Z^2}\n",
    "= -\\frac{e^{v_i} e^{v_j}}{Z^2}\n",
    "= -o_i o_j$\n",
    "\n",
    "So:\n",
    "\n",
    "$$\n",
    "\\frac{\\partial o_i}{\\partial v_j} =\n",
    "\\begin{cases}\n",
    "o_i (1 - o_i), & \\text{if } i = j \\\\\n",
    "- o_i o_j, & \\text{if } i \\ne j\n",
    "\\end{cases}\n",
    "$$\n"
   ]
  },
  {
   "cell_type": "markdown",
   "metadata": {},
   "source": [
    "### Question 2"
   ]
  },
  {
   "cell_type": "markdown",
   "metadata": {},
   "source": [
    "Now using the result from part 1, we compute the derivative of the cross-entropy loss $L = -\\sum_{i=1}^k y_i \\log(o_i)$ with respect to $v_i$.\n",
    "\n",
    "We use the chain rule:\n",
    "\n",
    "$\\frac{\\partial L}{\\partial v_i} = \\sum_{j=1}^k \\frac{\\partial L}{\\partial o_j} \\cdot \\frac{\\partial o_j}{\\partial v_i}$\n",
    "\n",
    "Since $\\frac{\\partial L}{\\partial o_j} = -\\frac{y_j}{o_j}$, and from earlier:\n",
    "\n",
    "$$\n",
    "\\frac{\\partial o_j}{\\partial v_i} =\n",
    "\\begin{cases}\n",
    "o_j (1 - o_j), & \\text{if } j = i \\\\\n",
    "- o_j o_i, & \\text{if } j \\ne i\n",
    "\\end{cases}\n",
    "$$\n",
    "\n",
    "\n",
    "we plug in:\n",
    "\n",
    "$\\frac{\\partial L}{\\partial v_i}\n",
    "= -\\frac{y_i}{o_i} \\cdot o_i(1 - o_i) + \\sum_{j \\ne i} \\left(-\\frac{y_j}{o_j} \\cdot (-o_j o_i)\\right)\n",
    "= -y_i(1 - o_i) + o_i \\sum_{j \\ne i} y_j$\n",
    "\n",
    "Since $\\sum_{j=1}^k y_j = 1$, then $\\sum_{j \\ne i} y_j = 1 - y_i$, so:\n",
    "\n",
    "$\\frac{\\partial L}{\\partial v_i} = -y_i(1 - o_i) + o_i(1 - y_i) = o_i - y_i$\n"
   ]
  }
 ],
 "metadata": {
  "language_info": {
   "name": "python"
  }
 },
 "nbformat": 4,
 "nbformat_minor": 2
}
