{
  "cells": [
    {
      "cell_type": "markdown",
      "source": [
        "# ***My answers for Problem 2 are at the bottom, after the template notebook code**"
      ],
      "metadata": {
        "id": "fWqVNHzfB1q-"
      }
    },
    {
      "cell_type": "markdown",
      "metadata": {
        "id": "uHQSiuQot5wd"
      },
      "source": [
        "# Machine Learning Exercise 4 - Neural Networks"
      ]
    },
    {
      "cell_type": "markdown",
      "metadata": {
        "id": "7IgZptjAt5wf"
      },
      "source": [
        "This notebook covers a Python-based solution for the fourth programming exercise of the machine learning class on Coursera.  Please refer to the [exercise text](https://github.com/jdwittenauer/ipython-notebooks/blob/master/exercises/ML/ex4.pdf) for detailed descriptions and equations."
      ]
    },
    {
      "cell_type": "markdown",
      "metadata": {
        "id": "HRIzUgCtt5wg"
      },
      "source": [
        "For this exercise we'll again tackle the hand-written digits data set, this time using a feed-forward neural network with backpropagation.  We'll implement un-regularized and regularized versions of the neural network cost function and gradient computation via the backpropagation algorithm.  We'll also implement random weight initialization and a method to use the network to make predictions.\n",
        "\n",
        "Since the data set is the same one we used in exercise 3, we'll re-use the code to load the data."
      ]
    },
    {
      "cell_type": "code",
      "execution_count": 1,
      "metadata": {
        "id": "zYGNbrrmt5wi",
        "outputId": "688778c1-8795-48d3-c7e8-469bdde4a9e1",
        "colab": {
          "base_uri": "https://localhost:8080/"
        }
      },
      "outputs": [
        {
          "output_type": "execute_result",
          "data": {
            "text/plain": [
              "{'__header__': b'MATLAB 5.0 MAT-file, Platform: GLNXA64, Created on: Sun Oct 16 13:09:09 2011',\n",
              " '__version__': '1.0',\n",
              " '__globals__': [],\n",
              " 'X': array([[0., 0., 0., ..., 0., 0., 0.],\n",
              "        [0., 0., 0., ..., 0., 0., 0.],\n",
              "        [0., 0., 0., ..., 0., 0., 0.],\n",
              "        ...,\n",
              "        [0., 0., 0., ..., 0., 0., 0.],\n",
              "        [0., 0., 0., ..., 0., 0., 0.],\n",
              "        [0., 0., 0., ..., 0., 0., 0.]]),\n",
              " 'y': array([[10],\n",
              "        [10],\n",
              "        [10],\n",
              "        ...,\n",
              "        [ 9],\n",
              "        [ 9],\n",
              "        [ 9]], dtype=uint8)}"
            ]
          },
          "metadata": {},
          "execution_count": 1
        }
      ],
      "source": [
        "import numpy as np\n",
        "import pandas as pd\n",
        "import matplotlib.pyplot as plt\n",
        "from scipy.io import loadmat\n",
        "%matplotlib inline\n",
        "\n",
        "data = loadmat('ex3data1.mat')\n",
        "data"
      ]
    },
    {
      "cell_type": "markdown",
      "metadata": {
        "id": "XhczcTfGt5wk"
      },
      "source": [
        "Since we're going to need these later (and will use them often), let's create some useful variables up-front."
      ]
    },
    {
      "cell_type": "code",
      "execution_count": 2,
      "metadata": {
        "id": "x6piy8AZt5wl",
        "outputId": "016e7bc1-da2e-4eeb-f7d4-8055e11504ff",
        "colab": {
          "base_uri": "https://localhost:8080/"
        }
      },
      "outputs": [
        {
          "output_type": "execute_result",
          "data": {
            "text/plain": [
              "((5000, 400), (5000, 1))"
            ]
          },
          "metadata": {},
          "execution_count": 2
        }
      ],
      "source": [
        "X = data['X']\n",
        "y = data['y']\n",
        "\n",
        "X.shape, y.shape"
      ]
    },
    {
      "cell_type": "markdown",
      "metadata": {
        "id": "UOH6ntwjt5wl"
      },
      "source": [
        "We're also going to need to one-hot encode our y labels.  One-hot encoding turns a class label n (out of k classes) into a vector of length k where index n is \"hot\" (1) while the rest are zero.  Scikit-learn has a built in utility we can use for this."
      ]
    },
    {
      "cell_type": "code",
      "execution_count": 3,
      "metadata": {
        "id": "HwOevxDHt5wm",
        "outputId": "3752106d-5878-459f-9624-016d4535242b",
        "colab": {
          "base_uri": "https://localhost:8080/"
        }
      },
      "outputs": [
        {
          "output_type": "execute_result",
          "data": {
            "text/plain": [
              "(5000, 10)"
            ]
          },
          "metadata": {},
          "execution_count": 3
        }
      ],
      "source": [
        "from sklearn.preprocessing import OneHotEncoder\n",
        "encoder = OneHotEncoder(sparse_output=False)\n",
        "y_onehot = encoder.fit_transform(y)\n",
        "y_onehot.shape"
      ]
    },
    {
      "cell_type": "code",
      "execution_count": 4,
      "metadata": {
        "id": "cCe-dKvut5wm",
        "outputId": "f538aad5-57b1-47ff-a80b-df2d1bd48394",
        "colab": {
          "base_uri": "https://localhost:8080/"
        }
      },
      "outputs": [
        {
          "output_type": "execute_result",
          "data": {
            "text/plain": [
              "(array([10], dtype=uint8), array([0., 0., 0., 0., 0., 0., 0., 0., 0., 1.]))"
            ]
          },
          "metadata": {},
          "execution_count": 4
        }
      ],
      "source": [
        "y[0], y_onehot[0,:]"
      ]
    },
    {
      "cell_type": "markdown",
      "metadata": {
        "id": "Oqh3On0Kt5wn"
      },
      "source": [
        "The neural network we're going to build for this exercise has an input layer matching the size of our instance data (400 + the bias unit), a hidden layer with 25 units (26 with the bias unit), and an output layer with 10 units corresponding to our one-hot encoding for the class labels.  For additional details and an image of the network architecture, please refer to the PDF in the \"exercises\" folder.\n",
        "\n",
        "The first piece we need to implement is a cost function to evaluate the loss for a given set of network parameters.  The source mathematical function is in the exercise text (and looks pretty intimidating).  Here are the functions required to compute the cost."
      ]
    },
    {
      "cell_type": "code",
      "execution_count": 5,
      "metadata": {
        "collapsed": true,
        "id": "qCpIfZsEt5wn"
      },
      "outputs": [],
      "source": [
        "def sigmoid(z):\n",
        "    return 1 / (1 + np.exp(-z))"
      ]
    },
    {
      "cell_type": "code",
      "execution_count": 6,
      "metadata": {
        "collapsed": true,
        "id": "ALowXp4rt5wn"
      },
      "outputs": [],
      "source": [
        "def forward_propagate(X, theta1, theta2):\n",
        "    m = X.shape[0]\n",
        "\n",
        "    a1 = np.insert(X, 0, values=np.ones(m), axis=1)\n",
        "    z2 = a1 * theta1.T\n",
        "    a2 = np.insert(sigmoid(z2), 0, values=np.ones(m), axis=1)\n",
        "    z3 = a2 * theta2.T\n",
        "    h = sigmoid(z3)\n",
        "\n",
        "    return a1, z2, a2, z3, h"
      ]
    },
    {
      "cell_type": "code",
      "execution_count": 7,
      "metadata": {
        "collapsed": true,
        "id": "2VZJe59Qt5wo"
      },
      "outputs": [],
      "source": [
        "def cost(params, input_size, hidden_size, num_labels, X, y, learning_rate):\n",
        "    m = X.shape[0]\n",
        "    X = np.matrix(X)\n",
        "    y = np.matrix(y)\n",
        "\n",
        "    # reshape the parameter array into parameter matrices for each layer\n",
        "    theta1 = np.matrix(np.reshape(params[:hidden_size * (input_size + 1)], (hidden_size, (input_size + 1))))\n",
        "    theta2 = np.matrix(np.reshape(params[hidden_size * (input_size + 1):], (num_labels, (hidden_size + 1))))\n",
        "\n",
        "    # run the feed-forward pass\n",
        "    a1, z2, a2, z3, h = forward_propagate(X, theta1, theta2)\n",
        "\n",
        "    # compute the cost\n",
        "    J = 0\n",
        "    for i in range(m):\n",
        "        first_term = np.multiply(-y[i,:], np.log(h[i,:]))\n",
        "        second_term = np.multiply((1 - y[i,:]), np.log(1 - h[i,:]))\n",
        "        J += np.sum(first_term - second_term)\n",
        "\n",
        "    J = J / m\n",
        "\n",
        "    return J"
      ]
    },
    {
      "cell_type": "markdown",
      "metadata": {
        "id": "p3ChFtdft5wp"
      },
      "source": [
        "We've used the sigmoid function before so that's not new.  The forward-propagate function computes the hypothesis for each training instance given the current parameters.  It's output shape should match the same of our one-hot encoding for y.  We can test this real quick to convince ourselves that it's working as expected (the intermediate steps are also returned as these will be useful later)."
      ]
    },
    {
      "cell_type": "code",
      "execution_count": 8,
      "metadata": {
        "id": "pG_9Lv7et5wr",
        "outputId": "19bf9f0b-9afb-4c15-c485-cdb3d43eaf38",
        "colab": {
          "base_uri": "https://localhost:8080/"
        }
      },
      "outputs": [
        {
          "output_type": "execute_result",
          "data": {
            "text/plain": [
              "((25, 401), (10, 26))"
            ]
          },
          "metadata": {},
          "execution_count": 8
        }
      ],
      "source": [
        "# initial setup\n",
        "input_size = 400\n",
        "hidden_size = 25\n",
        "num_labels = 10\n",
        "learning_rate = 1\n",
        "\n",
        "# randomly initialize a parameter array of the size of the full network's parameters\n",
        "params = (np.random.random(size=hidden_size * (input_size + 1) + num_labels * (hidden_size + 1)) - 0.5) * 0.25\n",
        "\n",
        "m = X.shape[0]\n",
        "X = np.matrix(X)\n",
        "y = np.matrix(y)\n",
        "\n",
        "# unravel the parameter array into parameter matrices for each layer\n",
        "theta1 = np.matrix(np.reshape(params[:hidden_size * (input_size + 1)], (hidden_size, (input_size + 1))))\n",
        "theta2 = np.matrix(np.reshape(params[hidden_size * (input_size + 1):], (num_labels, (hidden_size + 1))))\n",
        "\n",
        "theta1.shape, theta2.shape"
      ]
    },
    {
      "cell_type": "code",
      "execution_count": 9,
      "metadata": {
        "id": "GqMXk-ACt5ws",
        "outputId": "6e54b851-0440-432a-dab4-e2e9c776db16",
        "colab": {
          "base_uri": "https://localhost:8080/"
        }
      },
      "outputs": [
        {
          "output_type": "execute_result",
          "data": {
            "text/plain": [
              "((5000, 401), (5000, 25), (5000, 26), (5000, 10), (5000, 10))"
            ]
          },
          "metadata": {},
          "execution_count": 9
        }
      ],
      "source": [
        "a1, z2, a2, z3, h = forward_propagate(X, theta1, theta2)\n",
        "a1.shape, z2.shape, a2.shape, z3.shape, h.shape"
      ]
    },
    {
      "cell_type": "markdown",
      "metadata": {
        "id": "kB2y-g7nt5wt"
      },
      "source": [
        "The cost function, after computing the hypothesis matrix h, applies the cost equation to compute the total error between y and h."
      ]
    },
    {
      "cell_type": "code",
      "execution_count": 10,
      "metadata": {
        "id": "Ptju-Epvt5wt",
        "outputId": "be1ec6f7-a683-4843-f47b-be9ae10a5eaf",
        "colab": {
          "base_uri": "https://localhost:8080/"
        }
      },
      "outputs": [
        {
          "output_type": "execute_result",
          "data": {
            "text/plain": [
              "np.float64(7.197876556420712)"
            ]
          },
          "metadata": {},
          "execution_count": 10
        }
      ],
      "source": [
        "cost(params, input_size, hidden_size, num_labels, X, y_onehot, learning_rate)"
      ]
    },
    {
      "cell_type": "markdown",
      "metadata": {
        "id": "gAk5VgiEt5wt"
      },
      "source": [
        "Our next step is to add regularization to the cost function.  If you're following along in the exercise text and thought the last equation looked ugly, this one looks REALLY ugly.  It's actually not as complicated as it looks though - in fact, the regularization term is simply an addition to the cost we already computed.  Here's the revised cost function."
      ]
    },
    {
      "cell_type": "code",
      "execution_count": 11,
      "metadata": {
        "collapsed": true,
        "id": "s-LvhuOtt5wu"
      },
      "outputs": [],
      "source": [
        "def cost(params, input_size, hidden_size, num_labels, X, y, learning_rate):\n",
        "    m = X.shape[0]\n",
        "    X = np.matrix(X)\n",
        "    y = np.matrix(y)\n",
        "\n",
        "    # reshape the parameter array into parameter matrices for each layer\n",
        "    theta1 = np.matrix(np.reshape(params[:hidden_size * (input_size + 1)], (hidden_size, (input_size + 1))))\n",
        "    theta2 = np.matrix(np.reshape(params[hidden_size * (input_size + 1):], (num_labels, (hidden_size + 1))))\n",
        "\n",
        "    # run the feed-forward pass\n",
        "    a1, z2, a2, z3, h = forward_propagate(X, theta1, theta2)\n",
        "\n",
        "    # compute the cost\n",
        "    J = 0\n",
        "    for i in range(m):\n",
        "        first_term = np.multiply(-y[i,:], np.log(h[i,:]))\n",
        "        second_term = np.multiply((1 - y[i,:]), np.log(1 - h[i,:]))\n",
        "        J += np.sum(first_term - second_term)\n",
        "\n",
        "    J = J / m\n",
        "\n",
        "    # add the cost regularization term\n",
        "    J += (float(learning_rate) / (2 * m)) * (np.sum(np.power(theta1[:,1:], 2)) + np.sum(np.power(theta2[:,1:], 2)))\n",
        "\n",
        "    return J"
      ]
    },
    {
      "cell_type": "code",
      "execution_count": 12,
      "metadata": {
        "id": "48Ld4Z8Pt5wu",
        "outputId": "70d27352-3541-4af2-9f20-06d0b4453920",
        "colab": {
          "base_uri": "https://localhost:8080/"
        }
      },
      "outputs": [
        {
          "output_type": "execute_result",
          "data": {
            "text/plain": [
              "np.float64(7.203279011957698)"
            ]
          },
          "metadata": {},
          "execution_count": 12
        }
      ],
      "source": [
        "cost(params, input_size, hidden_size, num_labels, X, y_onehot, learning_rate)"
      ]
    },
    {
      "cell_type": "markdown",
      "metadata": {
        "id": "Eko_WUy3t5wu"
      },
      "source": [
        "Next up is the backpropagation algorithm.  Backpropagation computes the parameter updates that will reduce the error of the network on the training data.  The first thing we need is a function that computes the gradient of the sigmoid function we created earlier."
      ]
    },
    {
      "cell_type": "code",
      "execution_count": 13,
      "metadata": {
        "collapsed": true,
        "id": "ll3x5QgCt5wu"
      },
      "outputs": [],
      "source": [
        "def sigmoid_gradient(z):\n",
        "    return np.multiply(sigmoid(z), (1 - sigmoid(z)))"
      ]
    },
    {
      "cell_type": "markdown",
      "metadata": {
        "id": "MfgZJFZ9t5wu"
      },
      "source": [
        "Now we're ready to implement backpropagation to compute the gradients.  Since the computations required for backpropagation are a superset of those required in the cost function, we're actually going to extend the cost function to also perform backpropagation and return both the cost and the gradients."
      ]
    },
    {
      "cell_type": "code",
      "execution_count": 14,
      "metadata": {
        "collapsed": true,
        "id": "0A_a33l0t5wu"
      },
      "outputs": [],
      "source": [
        "def backprop(params, input_size, hidden_size, num_labels, X, y, learning_rate):\n",
        "    m = X.shape[0]\n",
        "    X = np.matrix(X)\n",
        "    y = np.matrix(y)\n",
        "\n",
        "    # reshape the parameter array into parameter matrices for each layer\n",
        "    theta1 = np.matrix(np.reshape(params[:hidden_size * (input_size + 1)], (hidden_size, (input_size + 1))))\n",
        "    theta2 = np.matrix(np.reshape(params[hidden_size * (input_size + 1):], (num_labels, (hidden_size + 1))))\n",
        "\n",
        "    # run the feed-forward pass\n",
        "    a1, z2, a2, z3, h = forward_propagate(X, theta1, theta2)\n",
        "\n",
        "    # initializations\n",
        "    J = 0\n",
        "    delta1 = np.zeros(theta1.shape)  # (25, 401)\n",
        "    delta2 = np.zeros(theta2.shape)  # (10, 26)\n",
        "\n",
        "    # compute the cost\n",
        "    for i in range(m):\n",
        "        first_term = np.multiply(-y[i,:], np.log(h[i,:]))\n",
        "        second_term = np.multiply((1 - y[i,:]), np.log(1 - h[i,:]))\n",
        "        J += np.sum(first_term - second_term)\n",
        "\n",
        "    J = J / m\n",
        "\n",
        "    # add the cost regularization term\n",
        "    J += (float(learning_rate) / (2 * m)) * (np.sum(np.power(theta1[:,1:], 2)) + np.sum(np.power(theta2[:,1:], 2)))\n",
        "\n",
        "    # perform backpropagation\n",
        "    for t in range(m):\n",
        "        a1t = a1[t,:]  # (1, 401)\n",
        "        z2t = z2[t,:]  # (1, 25)\n",
        "        a2t = a2[t,:]  # (1, 26)\n",
        "        ht = h[t,:]  # (1, 10)\n",
        "        yt = y[t,:]  # (1, 10)\n",
        "\n",
        "        d3t = ht - yt  # (1, 10)\n",
        "\n",
        "        z2t = np.insert(z2t, 0, values=np.ones(1))  # (1, 26)\n",
        "        d2t = np.multiply((theta2.T * d3t.T).T, sigmoid_gradient(z2t))  # (1, 26)\n",
        "\n",
        "        delta1 = delta1 + (d2t[:,1:]).T * a1t\n",
        "        delta2 = delta2 + d3t.T * a2t\n",
        "\n",
        "    delta1 = delta1 / m\n",
        "    delta2 = delta2 / m\n",
        "\n",
        "    # unravel the gradient matrices into a single array\n",
        "    grad = np.concatenate((np.ravel(delta1), np.ravel(delta2)))\n",
        "\n",
        "    return J, grad"
      ]
    },
    {
      "cell_type": "markdown",
      "metadata": {
        "id": "ezjSqPpet5wv"
      },
      "source": [
        "The hardest part of the backprop computation (other than understanding WHY we're doing all these calculations) is getting the matrix dimensions right.  By the way, if you find it confusing when to use A * B vs. np.multiply(A, B), you're not alone.  Basically the former is a matrix multiplication and the latter is an element-wise multiplication (unless A or B is a scalar value, in which case it doesn't matter).  I wish there was a more concise syntax for this (maybe there is and I'm just not aware of it).\n",
        "\n",
        "Anyway, let's test it out to make sure the function returns what we're expecting it to."
      ]
    },
    {
      "cell_type": "code",
      "execution_count": 15,
      "metadata": {
        "id": "s-eyXrUMt5wv",
        "outputId": "8202a18d-297b-4df6-ba87-66324894f21f",
        "colab": {
          "base_uri": "https://localhost:8080/"
        }
      },
      "outputs": [
        {
          "output_type": "execute_result",
          "data": {
            "text/plain": [
              "(np.float64(7.203279011957698), (10285,))"
            ]
          },
          "metadata": {},
          "execution_count": 15
        }
      ],
      "source": [
        "J, grad = backprop(params, input_size, hidden_size, num_labels, X, y_onehot, learning_rate)\n",
        "J, grad.shape"
      ]
    },
    {
      "cell_type": "markdown",
      "metadata": {
        "id": "dDN1K8rjt5wv"
      },
      "source": [
        "We still have one more modification to make to the backprop function - adding regularization to the gradient calculations.  The final regularized version is below."
      ]
    },
    {
      "cell_type": "code",
      "execution_count": 16,
      "metadata": {
        "collapsed": true,
        "id": "cixmjZqLt5wv"
      },
      "outputs": [],
      "source": [
        "def backprop(params, input_size, hidden_size, num_labels, X, y, learning_rate):\n",
        "    m = X.shape[0]\n",
        "    X = np.matrix(X)\n",
        "    y = np.matrix(y)\n",
        "\n",
        "    # reshape the parameter array into parameter matrices for each layer\n",
        "    theta1 = np.matrix(np.reshape(params[:hidden_size * (input_size + 1)], (hidden_size, (input_size + 1))))\n",
        "    theta2 = np.matrix(np.reshape(params[hidden_size * (input_size + 1):], (num_labels, (hidden_size + 1))))\n",
        "\n",
        "    # run the feed-forward pass\n",
        "    a1, z2, a2, z3, h = forward_propagate(X, theta1, theta2)\n",
        "\n",
        "    # initializations\n",
        "    J = 0\n",
        "    delta1 = np.zeros(theta1.shape)  # (25, 401)\n",
        "    delta2 = np.zeros(theta2.shape)  # (10, 26)\n",
        "\n",
        "    # compute the cost\n",
        "    for i in range(m):\n",
        "        first_term = np.multiply(-y[i,:], np.log(h[i,:]))\n",
        "        second_term = np.multiply((1 - y[i,:]), np.log(1 - h[i,:]))\n",
        "        J += np.sum(first_term - second_term)\n",
        "\n",
        "    J = J / m\n",
        "\n",
        "    # add the cost regularization term\n",
        "    J += (float(learning_rate) / (2 * m)) * (np.sum(np.power(theta1[:,1:], 2)) + np.sum(np.power(theta2[:,1:], 2)))\n",
        "\n",
        "    # perform backpropagation\n",
        "    for t in range(m):\n",
        "        a1t = a1[t,:]  # (1, 401)\n",
        "        z2t = z2[t,:]  # (1, 25)\n",
        "        a2t = a2[t,:]  # (1, 26)\n",
        "        ht = h[t,:]  # (1, 10)\n",
        "        yt = y[t,:]  # (1, 10)\n",
        "\n",
        "        d3t = ht - yt  # (1, 10)\n",
        "\n",
        "        z2t = np.insert(z2t, 0, values=np.ones(1))  # (1, 26)\n",
        "        d2t = np.multiply((theta2.T * d3t.T).T, sigmoid_gradient(z2t))  # (1, 26)\n",
        "\n",
        "        delta1 = delta1 + (d2t[:,1:]).T * a1t\n",
        "        delta2 = delta2 + d3t.T * a2t\n",
        "\n",
        "    delta1 = delta1 / m\n",
        "    delta2 = delta2 / m\n",
        "\n",
        "    # add the gradient regularization term\n",
        "    delta1[:,1:] = delta1[:,1:] + (theta1[:,1:] * learning_rate) / m\n",
        "    delta2[:,1:] = delta2[:,1:] + (theta2[:,1:] * learning_rate) / m\n",
        "\n",
        "    # unravel the gradient matrices into a single array\n",
        "    grad = np.concatenate((np.ravel(delta1), np.ravel(delta2)))\n",
        "\n",
        "    return J, grad"
      ]
    },
    {
      "cell_type": "code",
      "execution_count": 17,
      "metadata": {
        "id": "gfhV1ahQt5ww",
        "outputId": "cfee8582-471b-45bc-f7b9-84eca0b2d4b5",
        "colab": {
          "base_uri": "https://localhost:8080/"
        }
      },
      "outputs": [
        {
          "output_type": "execute_result",
          "data": {
            "text/plain": [
              "(np.float64(7.203279011957698), (10285,))"
            ]
          },
          "metadata": {},
          "execution_count": 17
        }
      ],
      "source": [
        "J, grad = backprop(params, input_size, hidden_size, num_labels, X, y_onehot, learning_rate)\n",
        "J, grad.shape"
      ]
    },
    {
      "cell_type": "markdown",
      "metadata": {
        "id": "fkzeRtAft5ww"
      },
      "source": [
        "We're finally ready to train our network and use it to make predictions.  This is roughly similar to the previous exercise with multi-class logistic regression."
      ]
    },
    {
      "cell_type": "code",
      "execution_count": 18,
      "metadata": {
        "id": "IJ7buPj0t5ww",
        "outputId": "28ee08cd-0350-48f5-959c-4a7357f204a3",
        "colab": {
          "base_uri": "https://localhost:8080/"
        }
      },
      "outputs": [
        {
          "output_type": "execute_result",
          "data": {
            "text/plain": [
              " message: Max. number of function evaluations reached\n",
              " success: False\n",
              "  status: 3\n",
              "     fun: 0.33780922572841104\n",
              "       x: [ 2.150e+00 -8.265e-03 ... -1.084e+00 -1.043e+00]\n",
              "     nit: 22\n",
              "     jac: [ 7.247e-07 -1.653e-06 ... -2.479e-04 -5.603e-05]\n",
              "    nfev: 250"
            ]
          },
          "metadata": {},
          "execution_count": 18
        }
      ],
      "source": [
        "from scipy.optimize import minimize\n",
        "\n",
        "options={'maxfun': 250}\n",
        "\n",
        "# minimize the objective function\n",
        "fmin = minimize(fun=backprop, x0=params, args=(input_size, hidden_size, num_labels, X, y_onehot, learning_rate),\n",
        "                method='TNC', jac=True, options=options)\n",
        "fmin"
      ]
    },
    {
      "cell_type": "markdown",
      "metadata": {
        "id": "iPmnSuyGt5wx"
      },
      "source": [
        "We put a bound on the number of iterations since the objective function is not likely to completely converge.  Our total cost has dropped below 0.5 though so that's a good indicator that the algorithm is working.  Let's use the parameters it found and forward-propagate them through the network to get some predictions."
      ]
    },
    {
      "cell_type": "code",
      "execution_count": 19,
      "metadata": {
        "id": "gevQ5m57t5wx",
        "outputId": "d897163c-225b-475a-d1a5-6aa23b9ba007",
        "colab": {
          "base_uri": "https://localhost:8080/"
        }
      },
      "outputs": [
        {
          "output_type": "execute_result",
          "data": {
            "text/plain": [
              "array([[10],\n",
              "       [10],\n",
              "       [10],\n",
              "       ...,\n",
              "       [ 9],\n",
              "       [ 9],\n",
              "       [ 9]])"
            ]
          },
          "metadata": {},
          "execution_count": 19
        }
      ],
      "source": [
        "X = np.matrix(X)\n",
        "theta1 = np.matrix(np.reshape(fmin.x[:hidden_size * (input_size + 1)], (hidden_size, (input_size + 1))))\n",
        "theta2 = np.matrix(np.reshape(fmin.x[hidden_size * (input_size + 1):], (num_labels, (hidden_size + 1))))\n",
        "\n",
        "a1, z2, a2, z3, h = forward_propagate(X, theta1, theta2)\n",
        "y_pred = np.array(np.argmax(h, axis=1) + 1)\n",
        "y_pred"
      ]
    },
    {
      "cell_type": "markdown",
      "metadata": {
        "id": "roBtOqRmt5wx"
      },
      "source": [
        "Finally we can compute the accuracy to see how well our trained network is doing."
      ]
    },
    {
      "cell_type": "code",
      "execution_count": 20,
      "metadata": {
        "id": "YVJuLXfGt5wx",
        "outputId": "1fb9262c-f174-4963-eecd-2059d3120c9b",
        "colab": {
          "base_uri": "https://localhost:8080/"
        }
      },
      "outputs": [
        {
          "output_type": "stream",
          "name": "stdout",
          "text": [
            "accuracy = 99.22%\n"
          ]
        }
      ],
      "source": [
        "correct = [1 if a == b else 0 for (a, b) in zip(y_pred, y)]\n",
        "accuracy = (sum(map(int, correct)) / float(len(correct)))\n",
        "print ('accuracy = {0}%'.format(accuracy * 100))"
      ]
    },
    {
      "cell_type": "markdown",
      "metadata": {
        "id": "rmJSO8Dvt5wy"
      },
      "source": [
        "And we're done!  We've successfully implemented a rudimentary feed-forward neural network with backpropagation and used it to classify images of handwritten digits.  In the next exercise we'll look at another power supervised learning algorithm, support vector machines."
      ]
    },
    {
      "cell_type": "markdown",
      "source": [
        "# **My answers to Problem 2 start here:**"
      ],
      "metadata": {
        "id": "okUqdkA0X7XT"
      }
    },
    {
      "cell_type": "code",
      "source": [
        "X = data['X']\n",
        "y = y.flatten()\n",
        "\n",
        "y_adj = y.copy()\n",
        "y_adj[y_adj == 10] = 0\n",
        "\n",
        "X.shape, y.shape"
      ],
      "metadata": {
        "colab": {
          "base_uri": "https://localhost:8080/"
        },
        "id": "V87XJWrhsA7I",
        "outputId": "48cac2bc-470f-475c-bfa4-9d89bc5faa25"
      },
      "execution_count": 21,
      "outputs": [
        {
          "output_type": "execute_result",
          "data": {
            "text/plain": [
              "((5000, 400), (1, 5000))"
            ]
          },
          "metadata": {},
          "execution_count": 21
        }
      ]
    },
    {
      "cell_type": "code",
      "source": [
        "y_adj = np.array(y_adj).flatten()\n",
        "encoder = OneHotEncoder(sparse_output=False)\n",
        "y_encoded = encoder.fit_transform(y_adj.reshape(-1, 1))"
      ],
      "metadata": {
        "id": "5YM88tHYsY3G"
      },
      "execution_count": 22,
      "outputs": []
    },
    {
      "cell_type": "markdown",
      "source": [
        "### 1. Scaled Sigmoid"
      ],
      "metadata": {
        "id": "zn0rm6RRscl4"
      }
    },
    {
      "cell_type": "code",
      "source": [
        "def scaled_sigmoid(z):\n",
        "    return 1 / (1 + np.exp(-2 * z))"
      ],
      "metadata": {
        "id": "xu7A5Qg6sg4-"
      },
      "execution_count": 23,
      "outputs": []
    },
    {
      "cell_type": "markdown",
      "source": [
        "### 4. Sigmoid Gradient"
      ],
      "metadata": {
        "id": "bDdwhGvgwS6b"
      }
    },
    {
      "cell_type": "code",
      "source": [
        "def scaled_sigmoid_grad(z):\n",
        "    s = scaled_sigmoid(z)\n",
        "    return 2 * s * (1 - s)"
      ],
      "metadata": {
        "id": "O5yaBFudwUjx"
      },
      "execution_count": 24,
      "outputs": []
    },
    {
      "cell_type": "code",
      "source": [
        "def init_weights_rand(fan_in, fan_out, eps_init=0.12):\n",
        "    return np.random.rand(fan_out, fan_in + 1) * 2 * eps_init - eps_init\n",
        "\n",
        "def updated_init_params(input_size, hidden_size1, hidden_size2, num_labels):\n",
        "    theta1 = init_weights_rand(input_size, hidden_size1)\n",
        "    theta2 = init_weights_rand(hidden_size1, hidden_size2)\n",
        "    theta3 = init_weights_rand(hidden_size2, num_labels)\n",
        "    return np.concatenate([theta1.ravel(), theta2.ravel(), theta3.ravel()])"
      ],
      "metadata": {
        "id": "QcsUWNFK8-GA"
      },
      "execution_count": 25,
      "outputs": []
    },
    {
      "cell_type": "code",
      "source": [
        "def updated_unpack_params(params, input_size, hidden_size1, hidden_size2, num_labels):\n",
        "    end1 = hidden_size1 * (input_size + 1)\n",
        "    end2 = end1 + hidden_size2 * (hidden_size1 + 1)\n",
        "\n",
        "    theta1 = np.reshape(params[:end1], (hidden_size1, input_size + 1))\n",
        "    theta2 = np.reshape(params[end1:end2], (hidden_size2, hidden_size1 + 1))\n",
        "    theta3 = np.reshape(params[end2:], (num_labels, hidden_size2 + 1))\n",
        "    return theta1, theta2, theta3"
      ],
      "metadata": {
        "id": "QBsUiqhy9Y0p"
      },
      "execution_count": 26,
      "outputs": []
    },
    {
      "cell_type": "markdown",
      "source": [
        "### 2. Forward Propagation"
      ],
      "metadata": {
        "id": "hwrV44GsvRmP"
      }
    },
    {
      "cell_type": "code",
      "source": [
        "def updated_forward_propagate(X, theta1, theta2, theta3):\n",
        "    m = X.shape[0]\n",
        "\n",
        "    a1 = np.insert(X, 0, 1, axis=1)\n",
        "    z2 = a1 @ theta1.T\n",
        "    a2 = scaled_sigmoid(z2)\n",
        "\n",
        "    a2 = np.insert(a2, 0, 1, axis=1)\n",
        "    z3 = a2 @ theta2.T\n",
        "    a3 = scaled_sigmoid(z3)\n",
        "\n",
        "    a3 = np.insert(a3, 0, 1, axis=1)\n",
        "    z4 = a3 @ theta3.T\n",
        "    a4 = scaled_sigmoid(z4)\n",
        "\n",
        "    return a1, z2, a2, z3, a3, z4, a4"
      ],
      "metadata": {
        "id": "7fk6jk9_vTO2"
      },
      "execution_count": 27,
      "outputs": []
    },
    {
      "cell_type": "markdown",
      "source": [
        "### 3. Cost Function"
      ],
      "metadata": {
        "id": "TsNGoiYLv5j-"
      }
    },
    {
      "cell_type": "code",
      "source": [
        "def updated_cost(params, input_size, hidden_size1, hidden_size2, num_labels, X, y_encoded, reg_strength=0.0):\n",
        "    m = X.shape[0]\n",
        "\n",
        "    end1 = hidden_size1 * (input_size + 1)\n",
        "    end2 = end1 + hidden_size2 * (hidden_size1 + 1)\n",
        "\n",
        "    theta1 = np.reshape(params[:end1], (hidden_size1, input_size + 1))\n",
        "    theta2 = np.reshape(params[end1:end2], (hidden_size2, hidden_size1 + 1))\n",
        "    theta3 = np.reshape(params[end2:], (num_labels, hidden_size2 + 1))\n",
        "\n",
        "    _, _, _, _, _, _, h = updated_forward_propagate(X, theta1, theta2, theta3)\n",
        "\n",
        "    term1 = -y_encoded * np.log(h)\n",
        "    term2 = (1 - y_encoded) * np.log(1 - h)\n",
        "    J = np.sum(term1 - term2) / m\n",
        "\n",
        "    # added this function so it works with and without regularization\n",
        "    if reg_strength > 0:\n",
        "        reg = (np.sum(np.square(theta1[:, 1:])) +\n",
        "               np.sum(np.square(theta2[:, 1:])) +\n",
        "               np.sum(np.square(theta3[:, 1:])))\n",
        "        J += (reg_strength / (2 * m)) * reg\n",
        "\n",
        "    return J\n"
      ],
      "metadata": {
        "id": "KHzr1VM-v_5H"
      },
      "execution_count": 28,
      "outputs": []
    },
    {
      "cell_type": "markdown",
      "source": [
        "### 5. Backpropagation"
      ],
      "metadata": {
        "id": "ng2WZzqBwpCN"
      }
    },
    {
      "cell_type": "code",
      "source": [
        "def updated_backprop(params, input_size, hidden_size1, hidden_size2, num_labels, X, y_encoded, reg_strength=0.0):\n",
        "    m = X.shape[0]\n",
        "\n",
        "    end1 = hidden_size1 * (input_size + 1)\n",
        "    end2 = end1 + hidden_size2 * (hidden_size1 + 1)\n",
        "\n",
        "    theta1 = np.reshape(params[:end1], (hidden_size1, input_size + 1))\n",
        "    theta2 = np.reshape(params[end1:end2], (hidden_size2, hidden_size1 + 1))\n",
        "    theta3 = np.reshape(params[end2:], (num_labels, hidden_size2 + 1))\n",
        "\n",
        "    a1, z2, a2, z3, a3, z4, h = updated_forward_propagate(X, theta1, theta2, theta3)\n",
        "\n",
        "    delta4 = h - y_encoded\n",
        "    delta3 = delta4 @ theta3[:, 1:] * scaled_sigmoid_grad(z3)\n",
        "    delta2 = delta3 @ theta2[:, 1:] * scaled_sigmoid_grad(z2)\n",
        "\n",
        "    d1 = delta2.T @ a1\n",
        "    d2 = delta3.T @ a2\n",
        "    d3 = delta4.T @ a3\n",
        "\n",
        "    if reg_strength > 0:\n",
        "        d1[:, 1:] += reg_strength * theta1[:, 1:]\n",
        "        d2[:, 1:] += reg_strength * theta2[:, 1:]\n",
        "        d3[:, 1:] += reg_strength * theta3[:, 1:]\n",
        "\n",
        "    d1 /= m\n",
        "    d2 /= m\n",
        "    d3 /= m\n",
        "\n",
        "    grad = np.concatenate([d1.ravel(), d2.ravel(), d3.ravel()])\n",
        "    J = updated_cost(params, input_size, hidden_size1, hidden_size2, num_labels, X, y_encoded, reg_strength)\n",
        "    return J, grad"
      ],
      "metadata": {
        "id": "loLyvBt8wqwL"
      },
      "execution_count": 29,
      "outputs": []
    },
    {
      "cell_type": "code",
      "source": [
        "def predict_3layer(X, theta1, theta2, theta3):\n",
        "    _, _, _, _, _, _, h = updated_forward_propagate(X, theta1, theta2, theta3)\n",
        "    return np.argmax(h, axis=1)"
      ],
      "metadata": {
        "id": "xBzNcqf4-S7X"
      },
      "execution_count": 33,
      "outputs": []
    },
    {
      "cell_type": "markdown",
      "source": [
        "### 6. Training 3-Layered Neural Network"
      ],
      "metadata": {
        "id": "H9SsQG_R1LB3"
      }
    },
    {
      "cell_type": "code",
      "source": [
        "from scipy.optimize import minimize\n",
        "\n",
        "# training\n",
        "input_size = 400\n",
        "hidden_size1 = 20\n",
        "hidden_size2 = 20\n",
        "num_labels = 10\n",
        "\n",
        "def init_weights_rand(fan_in, fan_out, eps_init=0.12):\n",
        "    return np.random.rand(fan_out, fan_in + 1) * 2 * eps_init - eps_init\n",
        "\n",
        "init_params = np.concatenate([\n",
        "    init_weights_rand(input_size, hidden_size1).ravel(),\n",
        "    init_weights_rand(hidden_size1, hidden_size2).ravel(),\n",
        "    init_weights_rand(hidden_size2, num_labels).ravel()\n",
        "])\n",
        "\n",
        "options = {'maxiter': 250}\n",
        "reg_strength = 1\n",
        "\n",
        "result = minimize(fun=updated_backprop,\n",
        "                  x0=init_params,\n",
        "                  args=(input_size, hidden_size1, hidden_size2, num_labels, X, y_encoded, reg_strength),\n",
        "                  method='TNC',\n",
        "                  jac=True,\n",
        "                  options=options)"
      ],
      "metadata": {
        "colab": {
          "base_uri": "https://localhost:8080/"
        },
        "id": "_OZHtsAS1Mm8",
        "outputId": "2892c26b-8c7a-46a2-92f0-a20c55500404"
      },
      "execution_count": 34,
      "outputs": [
        {
          "output_type": "stream",
          "name": "stderr",
          "text": [
            "<ipython-input-34-5c89e84f32ff>:21: OptimizeWarning: Unknown solver options: maxiter\n",
            "  result = minimize(fun=updated_backprop,\n"
          ]
        }
      ]
    },
    {
      "cell_type": "markdown",
      "source": [
        "### 7. Making Forward Predictions From the Trained Model & Computing Accuracy"
      ],
      "metadata": {
        "id": "g9xGjMdZCzVx"
      }
    },
    {
      "cell_type": "code",
      "source": [
        "# unrolling the learned parameters\n",
        "end1 = hidden_size1 * (input_size + 1)\n",
        "end2 = end1 + hidden_size2 * (hidden_size1 + 1)\n",
        "\n",
        "theta1 = np.reshape(result.x[:end1], (hidden_size1, input_size + 1))\n",
        "theta2 = np.reshape(result.x[end1:end2], (hidden_size2, hidden_size1 + 1))\n",
        "theta3 = np.reshape(result.x[end2:], (num_labels, hidden_size2 + 1))\n",
        "\n",
        "# computing the accuracy\n",
        "y_pred = predict_3layer(X, theta1, theta2, theta3)\n",
        "accuracy = np.mean(y_pred == y_adj) * 100\n",
        "print(f\"Accuracy of 3-layer Neural Network: {accuracy:.2f}%\")"
      ],
      "metadata": {
        "colab": {
          "base_uri": "https://localhost:8080/"
        },
        "id": "tUWPg4COCyu5",
        "outputId": "592f1f15-4ed3-4639-efc3-265583ddf4fe"
      },
      "execution_count": 35,
      "outputs": [
        {
          "output_type": "stream",
          "name": "stdout",
          "text": [
            "Accuracy of 3-layer Neural Network: 100.00%\n"
          ]
        }
      ]
    },
    {
      "cell_type": "markdown",
      "source": [
        "### 8. Observations"
      ],
      "metadata": {
        "id": "BfsLD-SxC75x"
      }
    },
    {
      "cell_type": "markdown",
      "source": [
        "When comparing the performance of the two models, the 3-layer neural network achieved a slightly higher accuracy than the 2-layer network. The 2-layer model reached around 99.22% accuracy, while the 3-layer model achieved 100% accuracy on the training data. This small improvement in training accuracy suggests that the deeper network was able to fit the data more precisely, which makes sense since adding another hidden layer increases the model's capacity to learn more complex patterns. However, getting perfect accuracy on training data may also be a sign of overfitting rather than better generalization. Since we are only evaluating on the training set, it's hard to tell if the 3-layer network would actually perform better on new, unseen data. Still, under the current setup, the deeper network does outperform the simpler one in terms of training accuracy."
      ],
      "metadata": {
        "id": "ZZPq1h8FDAQM"
      }
    }
  ],
  "metadata": {
    "kernelspec": {
      "display_name": "Python 2",
      "language": "python",
      "name": "python2"
    },
    "language_info": {
      "codemirror_mode": {
        "name": "ipython",
        "version": 2
      },
      "file_extension": ".py",
      "mimetype": "text/x-python",
      "name": "python",
      "nbconvert_exporter": "python",
      "pygments_lexer": "ipython2",
      "version": "2.7.9"
    },
    "colab": {
      "provenance": []
    }
  },
  "nbformat": 4,
  "nbformat_minor": 0
}